{
 "cells": [
  {
   "cell_type": "markdown",
   "metadata": {},
   "source": [
    "# Pair Programming 26/05 Tatiana y Guada"
   ]
  },
  {
   "cell_type": "code",
   "execution_count": 1,
   "metadata": {},
   "outputs": [],
   "source": [
    "import numpy as np\n",
    "import pandas as pd\n",
    "import matplotlib.pyplot as plt\n",
    "import seaborn as sns\n"
   ]
  },
  {
   "cell_type": "markdown",
   "metadata": {},
   "source": [
    "# Ejercicio 1\n",
    "-Pregunta teórica: ¿Qué diferencia existe entre la covarianza y la correlación?\n"
   ]
  },
  {
   "cell_type": "markdown",
   "metadata": {},
   "source": [
    "👩🏻👩🏻‍🦰💬\n",
    "\n",
    "La covarianza indica si ambas variables varían en la misma dirección (covarianza positiva: si aumenta el valor de una variable aumenta el valor de la otra) o en dirección opuesta (covarianza negativa: cuando aumenta el valor de una de las variables, disminuye el de la otra). En este caso el valor de la covarianza no es importante, solo el signo (si es positivo o negativo).\n",
    "\n",
    "Mientras que, la correlación nos indica la \"fuerza\" de esa relación. La correlación varía entre -1 a +1. Si el valor de correlación es 0, significa que no existe una relación lineal entre las variables.\n",
    "\n"
   ]
  },
  {
   "cell_type": "markdown",
   "metadata": {},
   "source": [
    "# Ejercicio 2\n",
    "Calculad la covarianza y la correlación de nuestro dataset. No nos vale solo con que la calculéis, debéis hacer una interpretación de los resultados obtenidos. Calculad solo la correlación de Pearson."
   ]
  },
  {
   "cell_type": "code",
   "execution_count": 7,
   "metadata": {},
   "outputs": [
    {
     "data": {
      "text/html": [
       "<div>\n",
       "<style scoped>\n",
       "    .dataframe tbody tr th:only-of-type {\n",
       "        vertical-align: middle;\n",
       "    }\n",
       "\n",
       "    .dataframe tbody tr th {\n",
       "        vertical-align: top;\n",
       "    }\n",
       "\n",
       "    .dataframe thead th {\n",
       "        text-align: right;\n",
       "    }\n",
       "</style>\n",
       "<table border=\"1\" class=\"dataframe\">\n",
       "  <thead>\n",
       "    <tr style=\"text-align: right;\">\n",
       "      <th></th>\n",
       "      <th>neighbourhood_group</th>\n",
       "      <th>room_type</th>\n",
       "      <th>price</th>\n",
       "      <th>minimum_nights</th>\n",
       "      <th>number_of_reviews</th>\n",
       "      <th>calculated_host_listings_count</th>\n",
       "      <th>availability_365</th>\n",
       "      <th>number_of_reviews_ltm</th>\n",
       "    </tr>\n",
       "  </thead>\n",
       "  <tbody>\n",
       "    <tr>\n",
       "      <th>0</th>\n",
       "      <td>Chamartín</td>\n",
       "      <td>Private room</td>\n",
       "      <td>59</td>\n",
       "      <td>1</td>\n",
       "      <td>81</td>\n",
       "      <td>1</td>\n",
       "      <td>149</td>\n",
       "      <td>3</td>\n",
       "    </tr>\n",
       "    <tr>\n",
       "      <th>1</th>\n",
       "      <td>Latina</td>\n",
       "      <td>Private room</td>\n",
       "      <td>31</td>\n",
       "      <td>4</td>\n",
       "      <td>33</td>\n",
       "      <td>2</td>\n",
       "      <td>131</td>\n",
       "      <td>0</td>\n",
       "    </tr>\n",
       "  </tbody>\n",
       "</table>\n",
       "</div>"
      ],
      "text/plain": [
       "  neighbourhood_group     room_type  price  minimum_nights  number_of_reviews  \\\n",
       "0           Chamartín  Private room     59               1                 81   \n",
       "1              Latina  Private room     31               4                 33   \n",
       "\n",
       "   calculated_host_listings_count  availability_365  number_of_reviews_ltm  \n",
       "0                               1               149                      3  \n",
       "1                               2               131                      0  "
      ]
     },
     "execution_count": 7,
     "metadata": {},
     "output_type": "execute_result"
    }
   ],
   "source": [
    "df = pd.read_csv(\"listing_nuevo.csv\", index_col=0)\n",
    "df.head(2)"
   ]
  },
  {
   "cell_type": "code",
   "execution_count": 3,
   "metadata": {},
   "outputs": [
    {
     "data": {
      "text/html": [
       "<div>\n",
       "<style scoped>\n",
       "    .dataframe tbody tr th:only-of-type {\n",
       "        vertical-align: middle;\n",
       "    }\n",
       "\n",
       "    .dataframe tbody tr th {\n",
       "        vertical-align: top;\n",
       "    }\n",
       "\n",
       "    .dataframe thead th {\n",
       "        text-align: right;\n",
       "    }\n",
       "</style>\n",
       "<table border=\"1\" class=\"dataframe\">\n",
       "  <thead>\n",
       "    <tr style=\"text-align: right;\">\n",
       "      <th></th>\n",
       "      <th>price</th>\n",
       "      <th>minimum_nights</th>\n",
       "      <th>number_of_reviews</th>\n",
       "      <th>calculated_host_listings_count</th>\n",
       "      <th>availability_365</th>\n",
       "      <th>number_of_reviews_ltm</th>\n",
       "    </tr>\n",
       "  </thead>\n",
       "  <tbody>\n",
       "    <tr>\n",
       "      <th>price</th>\n",
       "      <td>16241.927305</td>\n",
       "      <td>-90.325696</td>\n",
       "      <td>-820.832238</td>\n",
       "      <td>175.379782</td>\n",
       "      <td>2407.769827</td>\n",
       "      <td>-126.431815</td>\n",
       "    </tr>\n",
       "    <tr>\n",
       "      <th>minimum_nights</th>\n",
       "      <td>-90.325696</td>\n",
       "      <td>1356.699547</td>\n",
       "      <td>-106.598230</td>\n",
       "      <td>-19.176749</td>\n",
       "      <td>159.095979</td>\n",
       "      <td>-34.871804</td>\n",
       "    </tr>\n",
       "    <tr>\n",
       "      <th>number_of_reviews</th>\n",
       "      <td>-820.832238</td>\n",
       "      <td>-106.598230</td>\n",
       "      <td>4850.911930</td>\n",
       "      <td>-42.942893</td>\n",
       "      <td>420.548620</td>\n",
       "      <td>522.745300</td>\n",
       "    </tr>\n",
       "    <tr>\n",
       "      <th>calculated_host_listings_count</th>\n",
       "      <td>175.379782</td>\n",
       "      <td>-19.176749</td>\n",
       "      <td>-42.942893</td>\n",
       "      <td>769.998396</td>\n",
       "      <td>307.416942</td>\n",
       "      <td>22.856432</td>\n",
       "    </tr>\n",
       "    <tr>\n",
       "      <th>availability_365</th>\n",
       "      <td>2407.769827</td>\n",
       "      <td>159.095979</td>\n",
       "      <td>420.548620</td>\n",
       "      <td>307.416942</td>\n",
       "      <td>19391.754108</td>\n",
       "      <td>245.968309</td>\n",
       "    </tr>\n",
       "    <tr>\n",
       "      <th>number_of_reviews_ltm</th>\n",
       "      <td>-126.431815</td>\n",
       "      <td>-34.871804</td>\n",
       "      <td>522.745300</td>\n",
       "      <td>22.856432</td>\n",
       "      <td>245.968309</td>\n",
       "      <td>182.304506</td>\n",
       "    </tr>\n",
       "  </tbody>\n",
       "</table>\n",
       "</div>"
      ],
      "text/plain": [
       "                                       price  minimum_nights  \\\n",
       "price                           16241.927305      -90.325696   \n",
       "minimum_nights                    -90.325696     1356.699547   \n",
       "number_of_reviews                -820.832238     -106.598230   \n",
       "calculated_host_listings_count    175.379782      -19.176749   \n",
       "availability_365                 2407.769827      159.095979   \n",
       "number_of_reviews_ltm            -126.431815      -34.871804   \n",
       "\n",
       "                                number_of_reviews  \\\n",
       "price                                 -820.832238   \n",
       "minimum_nights                        -106.598230   \n",
       "number_of_reviews                     4850.911930   \n",
       "calculated_host_listings_count         -42.942893   \n",
       "availability_365                       420.548620   \n",
       "number_of_reviews_ltm                  522.745300   \n",
       "\n",
       "                                calculated_host_listings_count  \\\n",
       "price                                               175.379782   \n",
       "minimum_nights                                      -19.176749   \n",
       "number_of_reviews                                   -42.942893   \n",
       "calculated_host_listings_count                      769.998396   \n",
       "availability_365                                    307.416942   \n",
       "number_of_reviews_ltm                                22.856432   \n",
       "\n",
       "                                availability_365  number_of_reviews_ltm  \n",
       "price                                2407.769827            -126.431815  \n",
       "minimum_nights                        159.095979             -34.871804  \n",
       "number_of_reviews                     420.548620             522.745300  \n",
       "calculated_host_listings_count        307.416942              22.856432  \n",
       "availability_365                    19391.754108             245.968309  \n",
       "number_of_reviews_ltm                 245.968309             182.304506  "
      ]
     },
     "execution_count": 3,
     "metadata": {},
     "output_type": "execute_result"
    }
   ],
   "source": [
    "df.cov()"
   ]
  },
  {
   "cell_type": "markdown",
   "metadata": {},
   "source": [
    "👩🏻👩🏻‍🦰💬\n",
    "\n",
    "-Precio: Identificamos que tiene una covarianza negativa con 3 cariables y positiva con 2 variables.\n",
    "\n",
    "-Minimum_nights: Identificamos que tiene una covarianza negativa con 4 variables y positiva con 1 variables.\n",
    "\n",
    "-Number of reviews: Identificamos que tiene una covarianza negativa con 3 variables y positiva con 2 variables.\n",
    "\n",
    "-Calculated_host_listings_counts: Identificamos que tiene una covarianza negativa con 2 variables y positiva con 3 variables.\n",
    "\n",
    "-Availability_365: Identificamos que tiene todas las covarianzas son positivas.\n",
    "\n",
    "-Number of reviews ltm: Identificamos que tiene una covarianza negativa con 2 variables y positiva con 3 variables.\n"
   ]
  },
  {
   "cell_type": "code",
   "execution_count": 4,
   "metadata": {},
   "outputs": [
    {
     "name": "stderr",
     "output_type": "stream",
     "text": [
      "/tmp/ipykernel_3990/2837487990.py:1: DeprecationWarning: `np.bool` is a deprecated alias for the builtin `bool`. To silence this warning, use `bool` by itself. Doing this will not modify any behavior and is safe. If you specifically wanted the numpy scalar type, use `np.bool_` here.\n",
      "Deprecated in NumPy 1.20; for more details and guidance: https://numpy.org/devdocs/release/1.20.0-notes.html#deprecations\n",
      "  mask = np.triu(np.ones_like(df.corr(), dtype=np.bool))\n"
     ]
    },
    {
     "data": {
      "image/png": "[encoded data removed]",
      "text/plain": [
       "<Figure size 432x288 with 2 Axes>"
      ]
     },
     "metadata": {
      "needs_background": "light"
     },
     "output_type": "display_data"
    }
   ],
   "source": [
    "mask = np.triu(np.ones_like(df.corr(), dtype=np.bool))\n",
    "sns.heatmap(df.corr(),\n",
    "            cmap = \"YlGnBu\", \n",
    "            mask = mask, # incorporamos la máscara en nuestro plot\n",
    "           annot = True);\n",
    "\n"
   ]
  },
  {
   "cell_type": "markdown",
   "metadata": {},
   "source": [
    "👩🏻👩🏻‍🦰💬\n",
    "\n",
    "Según este mapa, podemos comprobar:\n",
    "\n",
    "-Si la cantidad de reviews aumenta, la cantidad de reviewsdel último año aumenta también.\n",
    "\n",
    "-Si la disponibilidad es durante todo el año, el precio aumenta.\n",
    "\n",
    "-Si la disponibilidad es durante todo el año, la cantidad de reviews del último año también aumenta."
   ]
  },
  {
   "cell_type": "markdown",
   "metadata": {},
   "source": [
    "# Ejercicio 3\n",
    "-Con los resultados de la correlación del ejercicio anterior, cread un heatmap.\n"
   ]
  },
  {
   "cell_type": "markdown",
   "metadata": {},
   "source": [
    "# Ejercicio 4\n",
    "-Guardad la gráfica del heatmap.\n"
   ]
  },
  {
   "cell_type": "code",
   "execution_count": 5,
   "metadata": {},
   "outputs": [
    {
     "data": {
      "text/plain": [
       "<Figure size 432x288 with 0 Axes>"
      ]
     },
     "metadata": {},
     "output_type": "display_data"
    }
   ],
   "source": [
    "plt.savefig('./heat_map')\n"
   ]
  },
  {
   "cell_type": "code",
   "execution_count": 6,
   "metadata": {},
   "outputs": [],
   "source": [
    "df.to_csv(\"listing_nuevo2.csv\")"
   ]
  }
 ],
 "metadata": {
  "interpreter": {
   "hash": "328661ec968ebc77b93161299d44fd1f4547ee33c9a17c5e95f23064c7c08def"
  },
  "kernelspec": {
   "display_name": "Python 3.9.7 ('base')",
   "language": "python",
   "name": "python3"
  },
  "language_info": {
   "codemirror_mode": {
    "name": "ipython",
    "version": 3
   },
   "file_extension": ".py",
   "mimetype": "text/x-python",
   "name": "python",
   "nbconvert_exporter": "python",
   "pygments_lexer": "ipython3",
   "version": "3.9.7"
  },
  "orig_nbformat": 4
 },
 "nbformat": 4,
 "nbformat_minor": 2
}
