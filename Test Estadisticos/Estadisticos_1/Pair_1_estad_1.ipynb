{
 "cells": [
  {
   "cell_type": "markdown",
   "metadata": {},
   "source": [
    "# Pair Programming 25/05 Tatiana y Guada"
   ]
  },
  {
   "cell_type": "code",
   "execution_count": 5,
   "metadata": {},
   "outputs": [],
   "source": [
    "import numpy as np\n",
    "import pandas as pd\n",
    "import matplotlib.pyplot as plt\n",
    "import seaborn as sns\n",
    "import statsmodels.api as sm\n",
    "from scipy.stats import skew\n",
    "from scipy.stats import kurtosistest\n",
    "from scipy import stats\n",
    "from scipy.stats import kstest\n",
    "from scipy.stats import ks_2samp\n",
    "\n"
   ]
  },
  {
   "cell_type": "markdown",
   "metadata": {},
   "source": [
    "# Ejercicio 1\n",
    "-Cargad el csv de listings"
   ]
  },
  {
   "cell_type": "code",
   "execution_count": 6,
   "metadata": {},
   "outputs": [
    {
     "data": {
      "text/html": [
       "<div>\n",
       "<style scoped>\n",
       "    .dataframe tbody tr th:only-of-type {\n",
       "        vertical-align: middle;\n",
       "    }\n",
       "\n",
       "    .dataframe tbody tr th {\n",
       "        vertical-align: top;\n",
       "    }\n",
       "\n",
       "    .dataframe thead th {\n",
       "        text-align: right;\n",
       "    }\n",
       "</style>\n",
       "<table border=\"1\" class=\"dataframe\">\n",
       "  <thead>\n",
       "    <tr style=\"text-align: right;\">\n",
       "      <th></th>\n",
       "      <th>id</th>\n",
       "      <th>name</th>\n",
       "      <th>host_id</th>\n",
       "      <th>host_name</th>\n",
       "      <th>neighbourhood_group</th>\n",
       "      <th>neighbourhood</th>\n",
       "      <th>latitude</th>\n",
       "      <th>longitude</th>\n",
       "      <th>room_type</th>\n",
       "      <th>price</th>\n",
       "      <th>minimum_nights</th>\n",
       "      <th>number_of_reviews</th>\n",
       "      <th>last_review</th>\n",
       "      <th>reviews_per_month</th>\n",
       "      <th>calculated_host_listings_count</th>\n",
       "      <th>availability_365</th>\n",
       "      <th>number_of_reviews_ltm</th>\n",
       "      <th>license</th>\n",
       "    </tr>\n",
       "  </thead>\n",
       "  <tbody>\n",
       "    <tr>\n",
       "      <th>0</th>\n",
       "      <td>6369</td>\n",
       "      <td>Rooftop terrace room ,  ensuite bathroom</td>\n",
       "      <td>13660</td>\n",
       "      <td>Simon</td>\n",
       "      <td>Chamartín</td>\n",
       "      <td>Hispanoamérica</td>\n",
       "      <td>40.45724</td>\n",
       "      <td>-3.67688</td>\n",
       "      <td>Private room</td>\n",
       "      <td>59</td>\n",
       "      <td>1</td>\n",
       "      <td>81</td>\n",
       "      <td>2021-11-20</td>\n",
       "      <td>0.57</td>\n",
       "      <td>1</td>\n",
       "      <td>149</td>\n",
       "      <td>3</td>\n",
       "      <td>NaN</td>\n",
       "    </tr>\n",
       "    <tr>\n",
       "      <th>1</th>\n",
       "      <td>21853</td>\n",
       "      <td>Bright and airy room</td>\n",
       "      <td>83531</td>\n",
       "      <td>Abdel</td>\n",
       "      <td>Latina</td>\n",
       "      <td>Cármenes</td>\n",
       "      <td>40.40381</td>\n",
       "      <td>-3.74130</td>\n",
       "      <td>Private room</td>\n",
       "      <td>31</td>\n",
       "      <td>4</td>\n",
       "      <td>33</td>\n",
       "      <td>2018-07-15</td>\n",
       "      <td>0.38</td>\n",
       "      <td>2</td>\n",
       "      <td>131</td>\n",
       "      <td>0</td>\n",
       "      <td>NaN</td>\n",
       "    </tr>\n",
       "    <tr>\n",
       "      <th>2</th>\n",
       "      <td>23001</td>\n",
       "      <td>Apartmento Arganzuela- Madrid Rio</td>\n",
       "      <td>82175</td>\n",
       "      <td>Jesus</td>\n",
       "      <td>Arganzuela</td>\n",
       "      <td>Legazpi</td>\n",
       "      <td>40.38840</td>\n",
       "      <td>-3.69511</td>\n",
       "      <td>Entire home/apt</td>\n",
       "      <td>50</td>\n",
       "      <td>15</td>\n",
       "      <td>0</td>\n",
       "      <td>NaN</td>\n",
       "      <td>NaN</td>\n",
       "      <td>6</td>\n",
       "      <td>311</td>\n",
       "      <td>0</td>\n",
       "      <td>NaN</td>\n",
       "    </tr>\n",
       "    <tr>\n",
       "      <th>3</th>\n",
       "      <td>24805</td>\n",
       "      <td>Gran Via Studio Madrid</td>\n",
       "      <td>346366726</td>\n",
       "      <td>A</td>\n",
       "      <td>Centro</td>\n",
       "      <td>Universidad</td>\n",
       "      <td>40.42183</td>\n",
       "      <td>-3.70529</td>\n",
       "      <td>Entire home/apt</td>\n",
       "      <td>92</td>\n",
       "      <td>5</td>\n",
       "      <td>14</td>\n",
       "      <td>2021-11-29</td>\n",
       "      <td>0.16</td>\n",
       "      <td>1</td>\n",
       "      <td>167</td>\n",
       "      <td>4</td>\n",
       "      <td>NaN</td>\n",
       "    </tr>\n",
       "    <tr>\n",
       "      <th>4</th>\n",
       "      <td>26825</td>\n",
       "      <td>Single Room whith private Bathroom</td>\n",
       "      <td>114340</td>\n",
       "      <td>Agustina</td>\n",
       "      <td>Arganzuela</td>\n",
       "      <td>Legazpi</td>\n",
       "      <td>40.38975</td>\n",
       "      <td>-3.69018</td>\n",
       "      <td>Private room</td>\n",
       "      <td>29</td>\n",
       "      <td>2</td>\n",
       "      <td>154</td>\n",
       "      <td>2021-11-28</td>\n",
       "      <td>1.09</td>\n",
       "      <td>1</td>\n",
       "      <td>344</td>\n",
       "      <td>5</td>\n",
       "      <td>NaN</td>\n",
       "    </tr>\n",
       "  </tbody>\n",
       "</table>\n",
       "</div>"
      ],
      "text/plain": [
       "      id                                      name    host_id host_name  \\\n",
       "0   6369  Rooftop terrace room ,  ensuite bathroom      13660     Simon   \n",
       "1  21853                      Bright and airy room      83531     Abdel   \n",
       "2  23001         Apartmento Arganzuela- Madrid Rio      82175     Jesus   \n",
       "3  24805                    Gran Via Studio Madrid  346366726         A   \n",
       "4  26825        Single Room whith private Bathroom     114340  Agustina   \n",
       "\n",
       "  neighbourhood_group   neighbourhood  latitude  longitude        room_type  \\\n",
       "0           Chamartín  Hispanoamérica  40.45724   -3.67688     Private room   \n",
       "1              Latina        Cármenes  40.40381   -3.74130     Private room   \n",
       "2          Arganzuela         Legazpi  40.38840   -3.69511  Entire home/apt   \n",
       "3              Centro     Universidad  40.42183   -3.70529  Entire home/apt   \n",
       "4          Arganzuela         Legazpi  40.38975   -3.69018     Private room   \n",
       "\n",
       "   price  minimum_nights  number_of_reviews last_review  reviews_per_month  \\\n",
       "0     59               1                 81  2021-11-20               0.57   \n",
       "1     31               4                 33  2018-07-15               0.38   \n",
       "2     50              15                  0         NaN                NaN   \n",
       "3     92               5                 14  2021-11-29               0.16   \n",
       "4     29               2                154  2021-11-28               1.09   \n",
       "\n",
       "   calculated_host_listings_count  availability_365  number_of_reviews_ltm  \\\n",
       "0                               1               149                      3   \n",
       "1                               2               131                      0   \n",
       "2                               6               311                      0   \n",
       "3                               1               167                      4   \n",
       "4                               1               344                      5   \n",
       "\n",
       "  license  \n",
       "0     NaN  \n",
       "1     NaN  \n",
       "2     NaN  \n",
       "3     NaN  \n",
       "4     NaN  "
      ]
     },
     "execution_count": 6,
     "metadata": {},
     "output_type": "execute_result"
    }
   ],
   "source": [
    "df = pd.read_csv(\"listings.csv\", index_col=0)\n",
    "df.head()"
   ]
  },
  {
   "cell_type": "code",
   "execution_count": 7,
   "metadata": {},
   "outputs": [
    {
     "data": {
      "text/html": [
       "<div>\n",
       "<style scoped>\n",
       "    .dataframe tbody tr th:only-of-type {\n",
       "        vertical-align: middle;\n",
       "    }\n",
       "\n",
       "    .dataframe tbody tr th {\n",
       "        vertical-align: top;\n",
       "    }\n",
       "\n",
       "    .dataframe thead th {\n",
       "        text-align: right;\n",
       "    }\n",
       "</style>\n",
       "<table border=\"1\" class=\"dataframe\">\n",
       "  <thead>\n",
       "    <tr style=\"text-align: right;\">\n",
       "      <th></th>\n",
       "      <th>id</th>\n",
       "      <th>name</th>\n",
       "      <th>host_id</th>\n",
       "      <th>host_name</th>\n",
       "      <th>neighbourhood_group</th>\n",
       "      <th>neighbourhood</th>\n",
       "      <th>latitude</th>\n",
       "      <th>longitude</th>\n",
       "      <th>room_type</th>\n",
       "      <th>price</th>\n",
       "      <th>minimum_nights</th>\n",
       "      <th>number_of_reviews</th>\n",
       "      <th>last_review</th>\n",
       "      <th>reviews_per_month</th>\n",
       "      <th>calculated_host_listings_count</th>\n",
       "      <th>availability_365</th>\n",
       "      <th>number_of_reviews_ltm</th>\n",
       "      <th>license</th>\n",
       "    </tr>\n",
       "  </thead>\n",
       "  <tbody>\n",
       "    <tr>\n",
       "      <th>0</th>\n",
       "      <td>6369</td>\n",
       "      <td>Rooftop terrace room ,  ensuite bathroom</td>\n",
       "      <td>13660</td>\n",
       "      <td>Simon</td>\n",
       "      <td>Chamartín</td>\n",
       "      <td>Hispanoamérica</td>\n",
       "      <td>40.45724</td>\n",
       "      <td>-3.67688</td>\n",
       "      <td>Private room</td>\n",
       "      <td>59</td>\n",
       "      <td>1</td>\n",
       "      <td>81</td>\n",
       "      <td>2021-11-20</td>\n",
       "      <td>0.57</td>\n",
       "      <td>1</td>\n",
       "      <td>149</td>\n",
       "      <td>3</td>\n",
       "      <td>NaN</td>\n",
       "    </tr>\n",
       "    <tr>\n",
       "      <th>1</th>\n",
       "      <td>21853</td>\n",
       "      <td>Bright and airy room</td>\n",
       "      <td>83531</td>\n",
       "      <td>Abdel</td>\n",
       "      <td>Latina</td>\n",
       "      <td>Cármenes</td>\n",
       "      <td>40.40381</td>\n",
       "      <td>-3.74130</td>\n",
       "      <td>Private room</td>\n",
       "      <td>31</td>\n",
       "      <td>4</td>\n",
       "      <td>33</td>\n",
       "      <td>2018-07-15</td>\n",
       "      <td>0.38</td>\n",
       "      <td>2</td>\n",
       "      <td>131</td>\n",
       "      <td>0</td>\n",
       "      <td>NaN</td>\n",
       "    </tr>\n",
       "    <tr>\n",
       "      <th>2</th>\n",
       "      <td>23001</td>\n",
       "      <td>Apartmento Arganzuela- Madrid Rio</td>\n",
       "      <td>82175</td>\n",
       "      <td>Jesus</td>\n",
       "      <td>Arganzuela</td>\n",
       "      <td>Legazpi</td>\n",
       "      <td>40.38840</td>\n",
       "      <td>-3.69511</td>\n",
       "      <td>Entire home/apt</td>\n",
       "      <td>50</td>\n",
       "      <td>15</td>\n",
       "      <td>0</td>\n",
       "      <td>NaN</td>\n",
       "      <td>NaN</td>\n",
       "      <td>6</td>\n",
       "      <td>311</td>\n",
       "      <td>0</td>\n",
       "      <td>NaN</td>\n",
       "    </tr>\n",
       "    <tr>\n",
       "      <th>3</th>\n",
       "      <td>24805</td>\n",
       "      <td>Gran Via Studio Madrid</td>\n",
       "      <td>346366726</td>\n",
       "      <td>A</td>\n",
       "      <td>Centro</td>\n",
       "      <td>Universidad</td>\n",
       "      <td>40.42183</td>\n",
       "      <td>-3.70529</td>\n",
       "      <td>Entire home/apt</td>\n",
       "      <td>92</td>\n",
       "      <td>5</td>\n",
       "      <td>14</td>\n",
       "      <td>2021-11-29</td>\n",
       "      <td>0.16</td>\n",
       "      <td>1</td>\n",
       "      <td>167</td>\n",
       "      <td>4</td>\n",
       "      <td>NaN</td>\n",
       "    </tr>\n",
       "    <tr>\n",
       "      <th>4</th>\n",
       "      <td>26825</td>\n",
       "      <td>Single Room whith private Bathroom</td>\n",
       "      <td>114340</td>\n",
       "      <td>Agustina</td>\n",
       "      <td>Arganzuela</td>\n",
       "      <td>Legazpi</td>\n",
       "      <td>40.38975</td>\n",
       "      <td>-3.69018</td>\n",
       "      <td>Private room</td>\n",
       "      <td>29</td>\n",
       "      <td>2</td>\n",
       "      <td>154</td>\n",
       "      <td>2021-11-28</td>\n",
       "      <td>1.09</td>\n",
       "      <td>1</td>\n",
       "      <td>344</td>\n",
       "      <td>5</td>\n",
       "      <td>NaN</td>\n",
       "    </tr>\n",
       "  </tbody>\n",
       "</table>\n",
       "</div>"
      ],
      "text/plain": [
       "      id                                      name    host_id host_name  \\\n",
       "0   6369  Rooftop terrace room ,  ensuite bathroom      13660     Simon   \n",
       "1  21853                      Bright and airy room      83531     Abdel   \n",
       "2  23001         Apartmento Arganzuela- Madrid Rio      82175     Jesus   \n",
       "3  24805                    Gran Via Studio Madrid  346366726         A   \n",
       "4  26825        Single Room whith private Bathroom     114340  Agustina   \n",
       "\n",
       "  neighbourhood_group   neighbourhood  latitude  longitude        room_type  \\\n",
       "0           Chamartín  Hispanoamérica  40.45724   -3.67688     Private room   \n",
       "1              Latina        Cármenes  40.40381   -3.74130     Private room   \n",
       "2          Arganzuela         Legazpi  40.38840   -3.69511  Entire home/apt   \n",
       "3              Centro     Universidad  40.42183   -3.70529  Entire home/apt   \n",
       "4          Arganzuela         Legazpi  40.38975   -3.69018     Private room   \n",
       "\n",
       "   price  minimum_nights  number_of_reviews last_review  reviews_per_month  \\\n",
       "0     59               1                 81  2021-11-20               0.57   \n",
       "1     31               4                 33  2018-07-15               0.38   \n",
       "2     50              15                  0         NaN                NaN   \n",
       "3     92               5                 14  2021-11-29               0.16   \n",
       "4     29               2                154  2021-11-28               1.09   \n",
       "\n",
       "   calculated_host_listings_count  availability_365  number_of_reviews_ltm  \\\n",
       "0                               1               149                      3   \n",
       "1                               2               131                      0   \n",
       "2                               6               311                      0   \n",
       "3                               1               167                      4   \n",
       "4                               1               344                      5   \n",
       "\n",
       "  license  \n",
       "0     NaN  \n",
       "1     NaN  \n",
       "2     NaN  \n",
       "3     NaN  \n",
       "4     NaN  "
      ]
     },
     "execution_count": 7,
     "metadata": {},
     "output_type": "execute_result"
    }
   ],
   "source": [
    "\n",
    "copy = pd.DataFrame(df)\n",
    "copy.head()"
   ]
  },
  {
   "cell_type": "markdown",
   "metadata": {},
   "source": [
    "# Ejercicio 2\n",
    "-Eliminad las columnas latitude, longitude, last_review, license, name, host_id, neighbourhood, id y host_name ya que no serán útiles para nuestro propósito."
   ]
  },
  {
   "cell_type": "code",
   "execution_count": 8,
   "metadata": {},
   "outputs": [
    {
     "data": {
      "text/plain": [
       "Index(['neighbourhood_group', 'room_type', 'price', 'minimum_nights',\n",
       "       'number_of_reviews', 'reviews_per_month',\n",
       "       'calculated_host_listings_count', 'availability_365',\n",
       "       'number_of_reviews_ltm'],\n",
       "      dtype='object')"
      ]
     },
     "execution_count": 8,
     "metadata": {},
     "output_type": "execute_result"
    }
   ],
   "source": [
    "copy.drop([\"latitude\", \"longitude\", \"last_review\", \"license\", \"name\", \"host_id\", \"neighbourhood\", \"id\", \"host_name\"], axis=1, inplace = True)\n",
    "copy.columns\n"
   ]
  },
  {
   "cell_type": "code",
   "execution_count": 9,
   "metadata": {},
   "outputs": [
    {
     "data": {
      "text/html": [
       "<div>\n",
       "<style scoped>\n",
       "    .dataframe tbody tr th:only-of-type {\n",
       "        vertical-align: middle;\n",
       "    }\n",
       "\n",
       "    .dataframe tbody tr th {\n",
       "        vertical-align: top;\n",
       "    }\n",
       "\n",
       "    .dataframe thead th {\n",
       "        text-align: right;\n",
       "    }\n",
       "</style>\n",
       "<table border=\"1\" class=\"dataframe\">\n",
       "  <thead>\n",
       "    <tr style=\"text-align: right;\">\n",
       "      <th></th>\n",
       "      <th>neighbourhood_group</th>\n",
       "      <th>room_type</th>\n",
       "      <th>price</th>\n",
       "      <th>minimum_nights</th>\n",
       "      <th>number_of_reviews</th>\n",
       "      <th>reviews_per_month</th>\n",
       "      <th>calculated_host_listings_count</th>\n",
       "      <th>availability_365</th>\n",
       "      <th>number_of_reviews_ltm</th>\n",
       "    </tr>\n",
       "  </thead>\n",
       "  <tbody>\n",
       "    <tr>\n",
       "      <th>0</th>\n",
       "      <td>Chamartín</td>\n",
       "      <td>Private room</td>\n",
       "      <td>59</td>\n",
       "      <td>1</td>\n",
       "      <td>81</td>\n",
       "      <td>0.57</td>\n",
       "      <td>1</td>\n",
       "      <td>149</td>\n",
       "      <td>3</td>\n",
       "    </tr>\n",
       "    <tr>\n",
       "      <th>1</th>\n",
       "      <td>Latina</td>\n",
       "      <td>Private room</td>\n",
       "      <td>31</td>\n",
       "      <td>4</td>\n",
       "      <td>33</td>\n",
       "      <td>0.38</td>\n",
       "      <td>2</td>\n",
       "      <td>131</td>\n",
       "      <td>0</td>\n",
       "    </tr>\n",
       "    <tr>\n",
       "      <th>2</th>\n",
       "      <td>Arganzuela</td>\n",
       "      <td>Entire home/apt</td>\n",
       "      <td>50</td>\n",
       "      <td>15</td>\n",
       "      <td>0</td>\n",
       "      <td>NaN</td>\n",
       "      <td>6</td>\n",
       "      <td>311</td>\n",
       "      <td>0</td>\n",
       "    </tr>\n",
       "    <tr>\n",
       "      <th>3</th>\n",
       "      <td>Centro</td>\n",
       "      <td>Entire home/apt</td>\n",
       "      <td>92</td>\n",
       "      <td>5</td>\n",
       "      <td>14</td>\n",
       "      <td>0.16</td>\n",
       "      <td>1</td>\n",
       "      <td>167</td>\n",
       "      <td>4</td>\n",
       "    </tr>\n",
       "    <tr>\n",
       "      <th>4</th>\n",
       "      <td>Arganzuela</td>\n",
       "      <td>Private room</td>\n",
       "      <td>29</td>\n",
       "      <td>2</td>\n",
       "      <td>154</td>\n",
       "      <td>1.09</td>\n",
       "      <td>1</td>\n",
       "      <td>344</td>\n",
       "      <td>5</td>\n",
       "    </tr>\n",
       "  </tbody>\n",
       "</table>\n",
       "</div>"
      ],
      "text/plain": [
       "  neighbourhood_group        room_type  price  minimum_nights  \\\n",
       "0           Chamartín     Private room     59               1   \n",
       "1              Latina     Private room     31               4   \n",
       "2          Arganzuela  Entire home/apt     50              15   \n",
       "3              Centro  Entire home/apt     92               5   \n",
       "4          Arganzuela     Private room     29               2   \n",
       "\n",
       "   number_of_reviews  reviews_per_month  calculated_host_listings_count  \\\n",
       "0                 81               0.57                               1   \n",
       "1                 33               0.38                               2   \n",
       "2                  0                NaN                               6   \n",
       "3                 14               0.16                               1   \n",
       "4                154               1.09                               1   \n",
       "\n",
       "   availability_365  number_of_reviews_ltm  \n",
       "0               149                      3  \n",
       "1               131                      0  \n",
       "2               311                      0  \n",
       "3               167                      4  \n",
       "4               344                      5  "
      ]
     },
     "execution_count": 9,
     "metadata": {},
     "output_type": "execute_result"
    }
   ],
   "source": [
    "copy.head()"
   ]
  },
  {
   "cell_type": "markdown",
   "metadata": {},
   "source": [
    "# Ejercicio 3\n",
    "Explorad el dataset, para esto tendréis que usar métodos aprendidos hasta ahora, como el describe(), el info(), value_counts(), etc. También podréis hacer gráficas para empaparos mejor del dataset.\n",
    "\n",
    "📌 NOTA En caso de que haya algún nulo gestionad esos valores como aprendimos en las lecciones de limpieza."
   ]
  },
  {
   "cell_type": "code",
   "execution_count": 10,
   "metadata": {},
   "outputs": [
    {
     "data": {
      "text/html": [
       "<div>\n",
       "<style scoped>\n",
       "    .dataframe tbody tr th:only-of-type {\n",
       "        vertical-align: middle;\n",
       "    }\n",
       "\n",
       "    .dataframe tbody tr th {\n",
       "        vertical-align: top;\n",
       "    }\n",
       "\n",
       "    .dataframe thead th {\n",
       "        text-align: right;\n",
       "    }\n",
       "</style>\n",
       "<table border=\"1\" class=\"dataframe\">\n",
       "  <thead>\n",
       "    <tr style=\"text-align: right;\">\n",
       "      <th></th>\n",
       "      <th>price</th>\n",
       "      <th>minimum_nights</th>\n",
       "      <th>number_of_reviews</th>\n",
       "      <th>reviews_per_month</th>\n",
       "      <th>calculated_host_listings_count</th>\n",
       "      <th>availability_365</th>\n",
       "      <th>number_of_reviews_ltm</th>\n",
       "    </tr>\n",
       "  </thead>\n",
       "  <tbody>\n",
       "    <tr>\n",
       "      <th>count</th>\n",
       "      <td>17606.000000</td>\n",
       "      <td>17606.000000</td>\n",
       "      <td>17606.000000</td>\n",
       "      <td>13593.000000</td>\n",
       "      <td>17606.000000</td>\n",
       "      <td>17606.000000</td>\n",
       "      <td>17606.000000</td>\n",
       "    </tr>\n",
       "    <tr>\n",
       "      <th>mean</th>\n",
       "      <td>106.527150</td>\n",
       "      <td>7.449279</td>\n",
       "      <td>36.328184</td>\n",
       "      <td>1.347131</td>\n",
       "      <td>11.622856</td>\n",
       "      <td>148.076622</td>\n",
       "      <td>6.598035</td>\n",
       "    </tr>\n",
       "    <tr>\n",
       "      <th>std</th>\n",
       "      <td>130.223339</td>\n",
       "      <td>36.375985</td>\n",
       "      <td>68.979754</td>\n",
       "      <td>1.574951</td>\n",
       "      <td>27.842846</td>\n",
       "      <td>139.668538</td>\n",
       "      <td>13.367240</td>\n",
       "    </tr>\n",
       "    <tr>\n",
       "      <th>min</th>\n",
       "      <td>7.000000</td>\n",
       "      <td>1.000000</td>\n",
       "      <td>0.000000</td>\n",
       "      <td>0.010000</td>\n",
       "      <td>1.000000</td>\n",
       "      <td>0.000000</td>\n",
       "      <td>0.000000</td>\n",
       "    </tr>\n",
       "    <tr>\n",
       "      <th>25%</th>\n",
       "      <td>40.000000</td>\n",
       "      <td>1.000000</td>\n",
       "      <td>1.000000</td>\n",
       "      <td>0.240000</td>\n",
       "      <td>1.000000</td>\n",
       "      <td>0.000000</td>\n",
       "      <td>0.000000</td>\n",
       "    </tr>\n",
       "    <tr>\n",
       "      <th>50%</th>\n",
       "      <td>71.000000</td>\n",
       "      <td>2.000000</td>\n",
       "      <td>7.000000</td>\n",
       "      <td>0.810000</td>\n",
       "      <td>2.000000</td>\n",
       "      <td>104.000000</td>\n",
       "      <td>1.000000</td>\n",
       "    </tr>\n",
       "    <tr>\n",
       "      <th>75%</th>\n",
       "      <td>114.000000</td>\n",
       "      <td>3.000000</td>\n",
       "      <td>38.000000</td>\n",
       "      <td>1.940000</td>\n",
       "      <td>7.000000</td>\n",
       "      <td>308.000000</td>\n",
       "      <td>7.000000</td>\n",
       "    </tr>\n",
       "    <tr>\n",
       "      <th>max</th>\n",
       "      <td>1000.000000</td>\n",
       "      <td>1125.000000</td>\n",
       "      <td>767.000000</td>\n",
       "      <td>25.000000</td>\n",
       "      <td>199.000000</td>\n",
       "      <td>365.000000</td>\n",
       "      <td>347.000000</td>\n",
       "    </tr>\n",
       "  </tbody>\n",
       "</table>\n",
       "</div>"
      ],
      "text/plain": [
       "              price  minimum_nights  number_of_reviews  reviews_per_month  \\\n",
       "count  17606.000000    17606.000000       17606.000000       13593.000000   \n",
       "mean     106.527150        7.449279          36.328184           1.347131   \n",
       "std      130.223339       36.375985          68.979754           1.574951   \n",
       "min        7.000000        1.000000           0.000000           0.010000   \n",
       "25%       40.000000        1.000000           1.000000           0.240000   \n",
       "50%       71.000000        2.000000           7.000000           0.810000   \n",
       "75%      114.000000        3.000000          38.000000           1.940000   \n",
       "max     1000.000000     1125.000000         767.000000          25.000000   \n",
       "\n",
       "       calculated_host_listings_count  availability_365  number_of_reviews_ltm  \n",
       "count                    17606.000000      17606.000000           17606.000000  \n",
       "mean                        11.622856        148.076622               6.598035  \n",
       "std                         27.842846        139.668538              13.367240  \n",
       "min                          1.000000          0.000000               0.000000  \n",
       "25%                          1.000000          0.000000               0.000000  \n",
       "50%                          2.000000        104.000000               1.000000  \n",
       "75%                          7.000000        308.000000               7.000000  \n",
       "max                        199.000000        365.000000             347.000000  "
      ]
     },
     "execution_count": 10,
     "metadata": {},
     "output_type": "execute_result"
    }
   ],
   "source": [
    "copy.describe()"
   ]
  },
  {
   "cell_type": "code",
   "execution_count": 11,
   "metadata": {},
   "outputs": [
    {
     "name": "stdout",
     "output_type": "stream",
     "text": [
      "<class 'pandas.core.frame.DataFrame'>\n",
      "Int64Index: 17606 entries, 0 to 17830\n",
      "Data columns (total 9 columns):\n",
      " #   Column                          Non-Null Count  Dtype  \n",
      "---  ------                          --------------  -----  \n",
      " 0   neighbourhood_group             17606 non-null  object \n",
      " 1   room_type                       17606 non-null  object \n",
      " 2   price                           17606 non-null  int64  \n",
      " 3   minimum_nights                  17606 non-null  int64  \n",
      " 4   number_of_reviews               17606 non-null  int64  \n",
      " 5   reviews_per_month               13593 non-null  float64\n",
      " 6   calculated_host_listings_count  17606 non-null  int64  \n",
      " 7   availability_365                17606 non-null  int64  \n",
      " 8   number_of_reviews_ltm           17606 non-null  int64  \n",
      "dtypes: float64(1), int64(6), object(2)\n",
      "memory usage: 1.3+ MB\n"
     ]
    }
   ],
   "source": [
    "copy.info()"
   ]
  },
  {
   "cell_type": "code",
   "execution_count": 12,
   "metadata": {},
   "outputs": [
    {
     "name": "stdout",
     "output_type": "stream",
     "text": [
      "463\n"
     ]
    }
   ],
   "source": [
    "#Miramos si hay duplicados, y los eliminamos\n",
    "duplicados = copy.duplicated().sum()\n",
    "print(duplicados)\n",
    "\n",
    "copy.drop_duplicates(inplace=True)"
   ]
  },
  {
   "cell_type": "code",
   "execution_count": 13,
   "metadata": {},
   "outputs": [
    {
     "name": "stdout",
     "output_type": "stream",
     "text": [
      "Index(['neighbourhood_group', 'room_type', 'price', 'minimum_nights',\n",
      "       'number_of_reviews', 'reviews_per_month',\n",
      "       'calculated_host_listings_count', 'availability_365',\n",
      "       'number_of_reviews_ltm'],\n",
      "      dtype='object')\n"
     ]
    },
    {
     "data": {
      "text/plain": [
       "25     377\n",
       "50     370\n",
       "30     350\n",
       "60     335\n",
       "35     327\n",
       "      ... \n",
       "657      1\n",
       "374      1\n",
       "635      1\n",
       "395      1\n",
       "463      1\n",
       "Name: price, Length: 512, dtype: int64"
      ]
     },
     "execution_count": 13,
     "metadata": {},
     "output_type": "execute_result"
    }
   ],
   "source": [
    "#Miramos lo que contiene cada columna y elegimos una para mirar en profundidad.\n",
    "columnas = copy.columns\n",
    "print(columnas)\n",
    "copy.price.value_counts()"
   ]
  },
  {
   "cell_type": "code",
   "execution_count": 14,
   "metadata": {},
   "outputs": [
    {
     "data": {
      "text/html": [
       "<div>\n",
       "<style scoped>\n",
       "    .dataframe tbody tr th:only-of-type {\n",
       "        vertical-align: middle;\n",
       "    }\n",
       "\n",
       "    .dataframe tbody tr th {\n",
       "        vertical-align: top;\n",
       "    }\n",
       "\n",
       "    .dataframe thead th {\n",
       "        text-align: right;\n",
       "    }\n",
       "</style>\n",
       "<table border=\"1\" class=\"dataframe\">\n",
       "  <thead>\n",
       "    <tr style=\"text-align: right;\">\n",
       "      <th></th>\n",
       "      <th>nulos</th>\n",
       "      <th>porcentaje</th>\n",
       "    </tr>\n",
       "  </thead>\n",
       "  <tbody>\n",
       "    <tr>\n",
       "      <th>neighbourhood_group</th>\n",
       "      <td>0.0</td>\n",
       "      <td>0.0</td>\n",
       "    </tr>\n",
       "    <tr>\n",
       "      <th>room_type</th>\n",
       "      <td>0.0</td>\n",
       "      <td>0.0</td>\n",
       "    </tr>\n",
       "    <tr>\n",
       "      <th>price</th>\n",
       "      <td>0.0</td>\n",
       "      <td>0.0</td>\n",
       "    </tr>\n",
       "    <tr>\n",
       "      <th>minimum_nights</th>\n",
       "      <td>0.0</td>\n",
       "      <td>0.0</td>\n",
       "    </tr>\n",
       "    <tr>\n",
       "      <th>number_of_reviews</th>\n",
       "      <td>0.0</td>\n",
       "      <td>0.0</td>\n",
       "    </tr>\n",
       "    <tr>\n",
       "      <th>reviews_per_month</th>\n",
       "      <td>3605.0</td>\n",
       "      <td>21.0</td>\n",
       "    </tr>\n",
       "    <tr>\n",
       "      <th>calculated_host_listings_count</th>\n",
       "      <td>0.0</td>\n",
       "      <td>0.0</td>\n",
       "    </tr>\n",
       "    <tr>\n",
       "      <th>availability_365</th>\n",
       "      <td>0.0</td>\n",
       "      <td>0.0</td>\n",
       "    </tr>\n",
       "    <tr>\n",
       "      <th>number_of_reviews_ltm</th>\n",
       "      <td>0.0</td>\n",
       "      <td>0.0</td>\n",
       "    </tr>\n",
       "  </tbody>\n",
       "</table>\n",
       "</div>"
      ],
      "text/plain": [
       "                                 nulos  porcentaje\n",
       "neighbourhood_group                0.0         0.0\n",
       "room_type                          0.0         0.0\n",
       "price                              0.0         0.0\n",
       "minimum_nights                     0.0         0.0\n",
       "number_of_reviews                  0.0         0.0\n",
       "reviews_per_month               3605.0        21.0\n",
       "calculated_host_listings_count     0.0         0.0\n",
       "availability_365                   0.0         0.0\n",
       "number_of_reviews_ltm              0.0         0.0"
      ]
     },
     "execution_count": 14,
     "metadata": {},
     "output_type": "execute_result"
    }
   ],
   "source": [
    "#Miramos los nulos\n",
    "nulos = copy.isnull().sum()\n",
    "porcentaje = (nulos/ copy.shape[0] * 100).round()\n",
    "\n",
    "tabla = pd.DataFrame([nulos, porcentaje]).T\n",
    "tabla.columns = [\"nulos\", \"porcentaje\"]\n",
    "tabla"
   ]
  },
  {
   "cell_type": "markdown",
   "metadata": {},
   "source": [
    "👩🏻👩🏻‍🦰💬\n",
    "\n",
    "Como la unica columna que tiene nulos es \"reviews_per_month\" y, en principio, no vamos a utilizarla, procemos a elimanarla del dataframe."
   ]
  },
  {
   "cell_type": "code",
   "execution_count": 15,
   "metadata": {},
   "outputs": [],
   "source": [
    "del copy[\"reviews_per_month\"]"
   ]
  },
  {
   "cell_type": "code",
   "execution_count": 22,
   "metadata": {},
   "outputs": [
    {
     "data": {
      "text/html": [
       "<div>\n",
       "<style scoped>\n",
       "    .dataframe tbody tr th:only-of-type {\n",
       "        vertical-align: middle;\n",
       "    }\n",
       "\n",
       "    .dataframe tbody tr th {\n",
       "        vertical-align: top;\n",
       "    }\n",
       "\n",
       "    .dataframe thead th {\n",
       "        text-align: right;\n",
       "    }\n",
       "</style>\n",
       "<table border=\"1\" class=\"dataframe\">\n",
       "  <thead>\n",
       "    <tr style=\"text-align: right;\">\n",
       "      <th></th>\n",
       "      <th>neighbourhood_group</th>\n",
       "      <th>room_type</th>\n",
       "      <th>price</th>\n",
       "      <th>minimum_nights</th>\n",
       "      <th>number_of_reviews</th>\n",
       "      <th>calculated_host_listings_count</th>\n",
       "      <th>availability_365</th>\n",
       "      <th>number_of_reviews_ltm</th>\n",
       "    </tr>\n",
       "  </thead>\n",
       "  <tbody>\n",
       "    <tr>\n",
       "      <th>0</th>\n",
       "      <td>Chamartín</td>\n",
       "      <td>Private room</td>\n",
       "      <td>59</td>\n",
       "      <td>1</td>\n",
       "      <td>81</td>\n",
       "      <td>1</td>\n",
       "      <td>149</td>\n",
       "      <td>3</td>\n",
       "    </tr>\n",
       "    <tr>\n",
       "      <th>1</th>\n",
       "      <td>Latina</td>\n",
       "      <td>Private room</td>\n",
       "      <td>31</td>\n",
       "      <td>4</td>\n",
       "      <td>33</td>\n",
       "      <td>2</td>\n",
       "      <td>131</td>\n",
       "      <td>0</td>\n",
       "    </tr>\n",
       "    <tr>\n",
       "      <th>2</th>\n",
       "      <td>Arganzuela</td>\n",
       "      <td>Entire home/apt</td>\n",
       "      <td>50</td>\n",
       "      <td>15</td>\n",
       "      <td>0</td>\n",
       "      <td>6</td>\n",
       "      <td>311</td>\n",
       "      <td>0</td>\n",
       "    </tr>\n",
       "    <tr>\n",
       "      <th>3</th>\n",
       "      <td>Centro</td>\n",
       "      <td>Entire home/apt</td>\n",
       "      <td>92</td>\n",
       "      <td>5</td>\n",
       "      <td>14</td>\n",
       "      <td>1</td>\n",
       "      <td>167</td>\n",
       "      <td>4</td>\n",
       "    </tr>\n",
       "    <tr>\n",
       "      <th>4</th>\n",
       "      <td>Arganzuela</td>\n",
       "      <td>Private room</td>\n",
       "      <td>29</td>\n",
       "      <td>2</td>\n",
       "      <td>154</td>\n",
       "      <td>1</td>\n",
       "      <td>344</td>\n",
       "      <td>5</td>\n",
       "    </tr>\n",
       "  </tbody>\n",
       "</table>\n",
       "</div>"
      ],
      "text/plain": [
       "  neighbourhood_group        room_type  price  minimum_nights  \\\n",
       "0           Chamartín     Private room     59               1   \n",
       "1              Latina     Private room     31               4   \n",
       "2          Arganzuela  Entire home/apt     50              15   \n",
       "3              Centro  Entire home/apt     92               5   \n",
       "4          Arganzuela     Private room     29               2   \n",
       "\n",
       "   number_of_reviews  calculated_host_listings_count  availability_365  \\\n",
       "0                 81                               1               149   \n",
       "1                 33                               2               131   \n",
       "2                  0                               6               311   \n",
       "3                 14                               1               167   \n",
       "4                154                               1               344   \n",
       "\n",
       "   number_of_reviews_ltm  \n",
       "0                      3  \n",
       "1                      0  \n",
       "2                      0  \n",
       "3                      4  \n",
       "4                      5  "
      ]
     },
     "execution_count": 22,
     "metadata": {},
     "output_type": "execute_result"
    }
   ],
   "source": [
    "copy.head()"
   ]
  },
  {
   "cell_type": "code",
   "execution_count": 16,
   "metadata": {},
   "outputs": [
    {
     "data": {
      "text/plain": [
       "<seaborn.axisgrid.FacetGrid at 0x7ff3077160d0>"
      ]
     },
     "execution_count": 16,
     "metadata": {},
     "output_type": "execute_result"
    },
    {
     "data": {
      "image/png": "[encoded data removed]",
      "text/plain": [
       "<Figure size 360x360 with 1 Axes>"
      ]
     },
     "metadata": {
      "needs_background": "light"
     },
     "output_type": "display_data"
    }
   ],
   "source": [
    "sns.displot(copy[\"price\"], kde = True)"
   ]
  },
  {
   "cell_type": "markdown",
   "metadata": {},
   "source": [
    "# Ejercicio 4\n",
    "-Definid cuáles son las variables predictoras y la variable respuesta. Debéis tener en cuenta que lo que vamos a querer saber es de que depende el precio de las casas."
   ]
  },
  {
   "cell_type": "markdown",
   "metadata": {},
   "source": [
    "👩🏻👩🏻‍🦰💬\n",
    "\n",
    "variable_respuesta= \"price\"\n",
    "\n",
    "variables_predictoras= \"neighbourhood_group\""
   ]
  },
  {
   "cell_type": "markdown",
   "metadata": {},
   "source": [
    "# Ejercicio 5\n",
    "-Plantead una hipótesis alternativa. ¿Qué variables creeis que afectarán al precio de una casa?"
   ]
  },
  {
   "cell_type": "markdown",
   "metadata": {},
   "source": [
    "👩🏻👩🏻‍🦰💬\n",
    "\n",
    "H1= El precio varía en función de: \"neighbourhood_group\", \"room_type\", \"number_of_reviews\"\n",
    "\n",
    "HO= El precio no varía en función de: \"neighbourhood_group\", \"room_type\", \"number_of_reviews\""
   ]
  },
  {
   "cell_type": "markdown",
   "metadata": {},
   "source": [
    "# Ejercicio 6\n",
    "-Evaluad la normalidad de la variable respuesta. Hacedlo visualmente usando un histplot o un displot"
   ]
  },
  {
   "cell_type": "code",
   "execution_count": 17,
   "metadata": {},
   "outputs": [
    {
     "data": {
      "text/plain": [
       "<seaborn.axisgrid.FacetGrid at 0x7ff2c5979820>"
      ]
     },
     "execution_count": 17,
     "metadata": {},
     "output_type": "execute_result"
    },
    {
     "data": {
      "image/png": "[encoded data removed]",
      "text/plain": [
       "<Figure size 360x360 with 1 Axes>"
      ]
     },
     "metadata": {
      "needs_background": "light"
     },
     "output_type": "display_data"
    }
   ],
   "source": [
    "sns.displot(copy[\"price\"], kde = True)"
   ]
  },
  {
   "cell_type": "code",
   "execution_count": 24,
   "metadata": {},
   "outputs": [
    {
     "name": "stdout",
     "output_type": "stream",
     "text": [
      "De nuestra columna 'price', la MEDIA es 105.88823426471446\n",
      "La MEDIANA es 71.0\n",
      "La MODA tiene tres valores y son los siguientes: 0    25\n",
      "Name: price, dtype: int64\n",
      "El valor MÍNIMO es 7\n",
      "Y el valor MÁXIMO es 1000\n"
     ]
    }
   ],
   "source": [
    "print(\"De nuestra columna 'price', la MEDIA es\", copy[\"price\"].mean())\n",
    "print(\"La MEDIANA es\", copy[\"price\"].median())\n",
    "print(\"La MODA tiene tres valores y son los siguientes:\", copy[\"price\"].mode())\n",
    "print(\"El valor MÍNIMO es\", copy[\"price\"].min())\n",
    "print(\"Y el valor MÁXIMO es\" , copy[\"price\"].max())"
   ]
  },
  {
   "cell_type": "markdown",
   "metadata": {},
   "source": [
    "👩🏻👩🏻‍🦰💬\n",
    "\n",
    "Podemos comprobar, tanto en la gráfica como en los datos obtenidos, que la media y la mediana diferen mucho entre ellos. Vemos que no tienen una distribución normal, ya que no tiene forma campana de Gauss."
   ]
  },
  {
   "cell_type": "markdown",
   "metadata": {},
   "source": [
    "# Ejercicio 7\n",
    "-Evaluad la curtosis de las variables del dataset. ¿Qué tipo presenta cada variable?\n"
   ]
  },
  {
   "cell_type": "code",
   "execution_count": 31,
   "metadata": {},
   "outputs": [],
   "source": [
    "columnas_numericas = copy.select_dtypes(include= 'int64') "
   ]
  },
  {
   "cell_type": "code",
   "execution_count": 33,
   "metadata": {},
   "outputs": [
    {
     "name": "stdout",
     "output_type": "stream",
     "text": [
      "La curtosis de la columna price es KurtosistestResult(statistic=63.99970426763903, pvalue=0.0)\n",
      "La curtosis de la columna minimum_nights es KurtosistestResult(statistic=91.28776870651176, pvalue=0.0)\n",
      "La curtosis de la columna number_of_reviews es KurtosistestResult(statistic=60.31906455307852, pvalue=0.0)\n",
      "La curtosis de la columna calculated_host_listings_count es KurtosistestResult(statistic=67.01348268074169, pvalue=0.0)\n",
      "La curtosis de la columna availability_365 es KurtosistestResult(statistic=315.69677794071043, pvalue=0.0)\n",
      "La curtosis de la columna number_of_reviews_ltm es KurtosistestResult(statistic=73.62768155027084, pvalue=0.0)\n"
     ]
    }
   ],
   "source": [
    "for col in columnas_numericas:\n",
    "    print(f'La curtosis de la columna {col} es', kurtosistest(columnas_numericas[col]))"
   ]
  },
  {
   "cell_type": "markdown",
   "metadata": {},
   "source": [
    "👩🏻👩🏻‍🦰💬\n",
    "\n",
    "En términos sencillos, si el v*p-value* es inferior a 0,05, podemos asumir que los datos no están distribuidos normalmente. Esto suscede para todas nuestras variables. \n"
   ]
  },
  {
   "cell_type": "markdown",
   "metadata": {},
   "source": [
    "# Ejercicio 8\n",
    "Como hemos eliminado algunas columnas, guardad el csv para seguir trabajando con el en los siguientes ejercicios de pair programming.\n"
   ]
  },
  {
   "cell_type": "code",
   "execution_count": 34,
   "metadata": {},
   "outputs": [],
   "source": [
    "copy.to_csv(\"listing_nuevo.csv\")"
   ]
  }
 ],
 "metadata": {
  "interpreter": {
   "hash": "328661ec968ebc77b93161299d44fd1f4547ee33c9a17c5e95f23064c7c08def"
  },
  "kernelspec": {
   "display_name": "Python 3.9.7 ('base')",
   "language": "python",
   "name": "python3"
  },
  "language_info": {
   "codemirror_mode": {
    "name": "ipython",
    "version": 3
   },
   "file_extension": ".py",
   "mimetype": "text/x-python",
   "name": "python",
   "nbconvert_exporter": "python",
   "pygments_lexer": "ipython3",
   "version": "3.9.7"
  },
  "orig_nbformat": 4
 },
 "nbformat": 4,
 "nbformat_minor": 2
}
