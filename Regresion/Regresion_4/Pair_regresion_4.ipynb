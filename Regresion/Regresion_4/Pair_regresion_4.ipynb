{
 "cells": [
  {
   "cell_type": "markdown",
   "metadata": {},
   "source": [
    "# Pair Programming 30/05 Regresión lineal múltiple II - Tatiana y Guada"
   ]
  },
  {
   "cell_type": "code",
   "execution_count": 1,
   "metadata": {},
   "outputs": [],
   "source": [
    "# Importando paquetes! \n",
    "import numpy as np\n",
    "import pandas as pd\n",
    "import matplotlib.pyplot as plt\n",
    "import seaborn as sns\n",
    "import warnings\n",
    "warnings.filterwarnings( \"ignore\", module = \"seaborn\\..*\" )\n",
    "import sidetable\n",
    "import statsmodels.api as sm\n",
    "import pylab as py\n",
    "from sklearn.model_selection import train_test_split\n",
    "from sklearn.linear_model import LinearRegression,Lasso,Ridge\n",
    "from sklearn.preprocessing import MinMaxScaler, OrdinalEncoder, StandardScaler\n",
    "from sklearn.metrics import r2_score, mean_squared_error, mean_absolute_error\n",
    "\n",
    "from statsmodels.tools.tools import add_constant\n",
    "from statsmodels.stats.outliers_influence import variance_inflation_factor"
   ]
  },
  {
   "cell_type": "markdown",
   "metadata": {},
   "source": [
    "# Ejercicio 1\n",
    "Tomando los datos del mejor modelo obtenido en la clase de la pair de ayer.\n",
    "Investiga la multicolinealidad de las variables independientes.\n",
    "Selecciona aquellas variables que tengan una colinealidad dentro de los margenes estandar. Mostrando como se han ido eliminando las variables y como han cambiado los resultados del VIF.\n",
    "Realiza un modelo de regresión lineal multiple para ver si se han mejorado los resultados obtenidos.\n",
    "Estudia si tus resultados son acordes a las asunciones de linealidad."
   ]
  },
  {
   "cell_type": "code",
   "execution_count": 9,
   "metadata": {},
   "outputs": [
    {
     "data": {
      "text/html": [
       "<div>\n",
       "<style scoped>\n",
       "    .dataframe tbody tr th:only-of-type {\n",
       "        vertical-align: middle;\n",
       "    }\n",
       "\n",
       "    .dataframe tbody tr th {\n",
       "        vertical-align: top;\n",
       "    }\n",
       "\n",
       "    .dataframe thead th {\n",
       "        text-align: right;\n",
       "    }\n",
       "</style>\n",
       "<table border=\"1\" class=\"dataframe\">\n",
       "  <thead>\n",
       "    <tr style=\"text-align: right;\">\n",
       "      <th></th>\n",
       "      <th>age</th>\n",
       "      <th>education</th>\n",
       "      <th>education-num</th>\n",
       "      <th>marital-status</th>\n",
       "      <th>occupation</th>\n",
       "      <th>relationship</th>\n",
       "      <th>race</th>\n",
       "      <th>sex</th>\n",
       "      <th>capital-gain</th>\n",
       "      <th>capital-loss</th>\n",
       "      <th>...</th>\n",
       "      <th>salary</th>\n",
       "      <th>x0_ ?</th>\n",
       "      <th>x0_ Federal-gov</th>\n",
       "      <th>x0_ Local-gov</th>\n",
       "      <th>x0_ Never-worked</th>\n",
       "      <th>x0_ Private</th>\n",
       "      <th>x0_ Self-emp-inc</th>\n",
       "      <th>x0_ Self-emp-not-inc</th>\n",
       "      <th>x0_ State-gov</th>\n",
       "      <th>x0_ Without-pay</th>\n",
       "    </tr>\n",
       "  </thead>\n",
       "  <tbody>\n",
       "    <tr>\n",
       "      <th>0</th>\n",
       "      <td>39</td>\n",
       "      <td>Bachelors</td>\n",
       "      <td>13</td>\n",
       "      <td>Never-married</td>\n",
       "      <td>Adm-clerical</td>\n",
       "      <td>Not-in-family</td>\n",
       "      <td>White</td>\n",
       "      <td>Male</td>\n",
       "      <td>2174</td>\n",
       "      <td>0</td>\n",
       "      <td>...</td>\n",
       "      <td>0</td>\n",
       "      <td>0.0</td>\n",
       "      <td>0.0</td>\n",
       "      <td>0.0</td>\n",
       "      <td>0.0</td>\n",
       "      <td>0.0</td>\n",
       "      <td>0.0</td>\n",
       "      <td>0.0</td>\n",
       "      <td>1.0</td>\n",
       "      <td>0.0</td>\n",
       "    </tr>\n",
       "    <tr>\n",
       "      <th>1</th>\n",
       "      <td>38</td>\n",
       "      <td>HS-grad</td>\n",
       "      <td>9</td>\n",
       "      <td>Divorced</td>\n",
       "      <td>Handlers-cleaners</td>\n",
       "      <td>Not-in-family</td>\n",
       "      <td>White</td>\n",
       "      <td>Male</td>\n",
       "      <td>0</td>\n",
       "      <td>0</td>\n",
       "      <td>...</td>\n",
       "      <td>0</td>\n",
       "      <td>0.0</td>\n",
       "      <td>0.0</td>\n",
       "      <td>0.0</td>\n",
       "      <td>0.0</td>\n",
       "      <td>1.0</td>\n",
       "      <td>0.0</td>\n",
       "      <td>0.0</td>\n",
       "      <td>0.0</td>\n",
       "      <td>0.0</td>\n",
       "    </tr>\n",
       "  </tbody>\n",
       "</table>\n",
       "<p>2 rows × 22 columns</p>\n",
       "</div>"
      ],
      "text/plain": [
       "   age   education  education-num  marital-status          occupation  \\\n",
       "0   39   Bachelors             13   Never-married        Adm-clerical   \n",
       "1   38     HS-grad              9        Divorced   Handlers-cleaners   \n",
       "\n",
       "     relationship    race    sex  capital-gain  capital-loss  ...  salary  \\\n",
       "0   Not-in-family   White   Male          2174             0  ...       0   \n",
       "1   Not-in-family   White   Male             0             0  ...       0   \n",
       "\n",
       "  x0_ ?  x0_ Federal-gov  x0_ Local-gov  x0_ Never-worked  x0_ Private  \\\n",
       "0   0.0              0.0            0.0               0.0          0.0   \n",
       "1   0.0              0.0            0.0               0.0          1.0   \n",
       "\n",
       "   x0_ Self-emp-inc  x0_ Self-emp-not-inc  x0_ State-gov  x0_ Without-pay  \n",
       "0               0.0                   0.0            1.0              0.0  \n",
       "1               0.0                   0.0            0.0              0.0  \n",
       "\n",
       "[2 rows x 22 columns]"
      ]
     },
     "execution_count": 9,
     "metadata": {},
     "output_type": "execute_result"
    }
   ],
   "source": [
    "df= pd.read_csv('df_elegido.csv', index_col=0) \n",
    "df.head(2)"
   ]
  },
  {
   "cell_type": "code",
   "execution_count": 3,
   "metadata": {},
   "outputs": [],
   "source": [
    "df_numericas = df.select_dtypes(include=np.number)"
   ]
  },
  {
   "cell_type": "code",
   "execution_count": 4,
   "metadata": {},
   "outputs": [],
   "source": [
    "def get_VIF(dataframe, target):\n",
    "        X = add_constant(dataframe.loc[:, dataframe.columns != target])\n",
    "        seriesObject = pd.Series([variance_inflation_factor(X.values,i) for i in range(X.shape[1])] , index=X.columns,).sort_values(ascending= False)\n",
    "        return seriesObject"
   ]
  },
  {
   "cell_type": "code",
   "execution_count": 5,
   "metadata": {},
   "outputs": [
    {
     "name": "stderr",
     "output_type": "stream",
     "text": [
      "/home/guadalupec/anaconda3/lib/python3.9/site-packages/statsmodels/tsa/tsatools.py:142: FutureWarning: In a future version of pandas all arguments of concat except for the argument 'objs' will be keyword-only\n",
      "  x = pd.concat(x[::order], 1)\n",
      "/home/guadalupec/anaconda3/lib/python3.9/site-packages/statsmodels/regression/linear_model.py:1715: RuntimeWarning: divide by zero encountered in double_scalars\n",
      "  return 1 - self.ssr/self.centered_tss\n",
      "/home/guadalupec/anaconda3/lib/python3.9/site-packages/statsmodels/regression/linear_model.py:1715: RuntimeWarning: invalid value encountered in double_scalars\n",
      "  return 1 - self.ssr/self.centered_tss\n",
      "/home/guadalupec/anaconda3/lib/python3.9/site-packages/statsmodels/stats/outliers_influence.py:193: RuntimeWarning: divide by zero encountered in double_scalars\n",
      "  vif = 1. / (1. - r_squared_i)\n"
     ]
    },
    {
     "data": {
      "text/plain": [
       "x0_ ?                        inf\n",
       "x0_ Federal-gov              inf\n",
       "x0_ Local-gov                inf\n",
       "x0_ Never-worked             inf\n",
       "x0_ Private                  inf\n",
       "x0_ Self-emp-inc             inf\n",
       "x0_ Self-emp-not-inc         inf\n",
       "x0_ State-gov                inf\n",
       "x0_ Without-pay              inf\n",
       "education-num           1.064752\n",
       "hours-per-week          1.047127\n",
       "age                     1.043744\n",
       "salary                  1.000283\n",
       "const                   0.000000\n",
       "capital-loss                 NaN\n",
       "dtype: float64"
      ]
     },
     "execution_count": 5,
     "metadata": {},
     "output_type": "execute_result"
    }
   ],
   "source": [
    "get_VIF(df_numericas,'capital-gain')"
   ]
  },
  {
   "cell_type": "markdown",
   "metadata": {},
   "source": [
    "Observamos que ninguna de nuestras variables tienen colinealidad, por lo que no eliminaremos ninguna."
   ]
  },
  {
   "cell_type": "code",
   "execution_count": 12,
   "metadata": {},
   "outputs": [
    {
     "name": "stdout",
     "output_type": "stream",
     "text": [
      "Para el conjunto train:---------------\n",
      "El valor de r2 score es  0.021958715154813624\n",
      "El valor de r2 score adjusted es  0.021731857216896522\n",
      "El MAE es 1915.0642301486994\n",
      "EL RMSE es  6706.3449530970975\n",
      "Para el conjunto test:---------------\n",
      "El valor de r2 score es  0.02380552999892227\n",
      "El valor de r2 score adjusted es  0.022899128448317874\n",
      "El MAE es 2089.3566415672267\n",
      "EL RMSE es  7739.030224808847\n"
     ]
    }
   ],
   "source": [
    "x= df_numericas[['age', 'education-num', 'capital-loss',\"hours-per-week\"]] #independientes\n",
    "y = df_numericas['capital-gain']#dependientes\n",
    "x_train, x_test, y_train, y_test = train_test_split(x, y, test_size = 0.2, random_state = 42)\n",
    "\n",
    "# Creamos la regresiónn lineal\n",
    "LR = LinearRegression( normalize=True) # nos aseguramos de que se normalizan los datos\n",
    "# Ajustamos el modelo\n",
    "LR.fit(x_train,y_train)\n",
    "y_prediction_train =  LR.predict(x_train)\n",
    "Adj_r2_train = 1 - (1-r2_score(y_train,y_prediction_train)) * (x_train.shape[0]-1)/(x_train.shape[0]-x_train.shape[1]-1)\n",
    "\n",
    "y_prediction =  LR.predict(x_test)\n",
    "Adj_r2_test = 1 - (1-r2_score(y_test, y_prediction)) * (x_test.shape[0]-1)/(x_test.shape[0]-x_test.shape[1]-1)\n",
    "\n",
    "# Para el conjunto de entrenamiento las méticas han sido\n",
    "print('Para el conjunto train:---------------')\n",
    "print('El valor de r2 score es ',r2_score(y_train,y_prediction_train))\n",
    "print('El valor de r2 score adjusted es ',Adj_r2_train)\n",
    "print('El MAE es',mean_absolute_error(y_train,y_prediction_train))\n",
    "print('EL RMSE es ',np.sqrt(mean_squared_error(y_train,y_prediction_train)))\n",
    "\n",
    "\n",
    "# Para el conjunto de test las métricas han sido\n",
    "print('Para el conjunto test:---------------')\n",
    "print('El valor de r2 score es ',r2_score(y_test,y_prediction))\n",
    "print('El valor de r2 score adjusted es ',Adj_r2_test)\n",
    "print('El MAE es',mean_absolute_error(y_test,y_prediction))\n",
    "print('EL RMSE es ',np.sqrt(mean_squared_error(y_test,y_prediction)))"
   ]
  },
  {
   "cell_type": "markdown",
   "metadata": {},
   "source": [
    "# Ejercicio 2\n",
    "Toma ahora el dataset del mejor modelo obtenido y aplica los siguentes modelos de regresión con regularización.\n",
    "Ridge\n",
    "Lasso."
   ]
  },
  {
   "cell_type": "code",
   "execution_count": 10,
   "metadata": {},
   "outputs": [
    {
     "name": "stdout",
     "output_type": "stream",
     "text": [
      "Para el conjunto train:---------------\n",
      "El valor de r2 score es  0.022598105218575304\n",
      "El valor de r2 score adjusted es  0.021804161120696608\n",
      "El MAE es 1842.246975764632\n",
      "EL RMSE es  6704.1524733761025\n",
      "Para el conjunto test:---------------\n",
      "El valor de r2 score es  0.021572212804834567\n",
      "El valor de r2 score adjusted es  0.018385151608759087\n",
      "El MAE es 1997.676208314222\n",
      "EL RMSE es  7747.877762754579\n"
     ]
    }
   ],
   "source": [
    "## Ridge\n",
    "\n",
    "x= df_numericas.drop(columns = ['capital-gain'])\n",
    "y = df_numericas['capital-gain']\n",
    "x_train, x_test, y_train, y_test = train_test_split(x, y, test_size = 0.2, random_state = 42)\n",
    "\n",
    "# Creamos la regresiónn lineal\n",
    "LR = Ridge(normalize= True) # nos aseguramos de que se normalizan los datos\n",
    "# Ajustamos el modelo\n",
    "\n",
    "LR.fit(x_train,y_train)\n",
    "y_prediction_train =  LR.predict(x_train)\n",
    "Adj_r2_train = 1 - (1-r2_score(y_train,y_prediction_train)) * (x_train.shape[0]-1)/(x_train.shape[0]-x_train.shape[1]-1)\n",
    "\n",
    "y_prediction =  LR.predict(x_test)\n",
    "Adj_r2_test = 1 - (1-r2_score(y_test, y_prediction)) * (x_test.shape[0]-1)/(x_test.shape[0]-x_test.shape[1]-1)\n",
    "\n",
    "# Para el conjunto de entrenamiento las méticas han sido\n",
    "print('Para el conjunto train:---------------')\n",
    "print('El valor de r2 score es ',r2_score(y_train,y_prediction_train))\n",
    "print('El valor de r2 score adjusted es ',Adj_r2_train)\n",
    "print('El MAE es',mean_absolute_error(y_train,y_prediction_train))\n",
    "print('EL RMSE es ',np.sqrt(mean_squared_error(y_train,y_prediction_train)))\n",
    "\n",
    "\n",
    "# Para el conjunto de test las métricas han sido\n",
    "print('Para el conjunto test:---------------')\n",
    "print('El valor de r2 score es ',r2_score(y_test,y_prediction))\n",
    "print('El valor de r2 score adjusted es ',Adj_r2_test)\n",
    "print('El MAE es',mean_absolute_error(y_test,y_prediction))\n",
    "print('EL RMSE es ',np.sqrt(mean_squared_error(y_test,y_prediction)))"
   ]
  },
  {
   "cell_type": "code",
   "execution_count": 11,
   "metadata": {},
   "outputs": [
    {
     "name": "stdout",
     "output_type": "stream",
     "text": [
      "Para el conjunto train:---------------\n",
      "El valor de r2 score es  0.02619413039586227\n",
      "El valor de r2 score adjusted es  0.025403107351217202\n",
      "El MAE es 1858.2179652709713\n",
      "EL RMSE es  6691.808259230228\n",
      "Para el conjunto test:---------------\n",
      "El valor de r2 score es  0.024051587744290392\n",
      "El valor de r2 score adjusted es  0.020872602688082997\n",
      "El MAE es 2022.1597733102392\n",
      "EL RMSE es  7738.054820625862\n"
     ]
    }
   ],
   "source": [
    "#Lasso\n",
    "\n",
    "x=df_numericas.drop(columns = ['capital-gain'])\n",
    "y = df_numericas['capital-gain']\n",
    "x_train, x_test, y_train, y_test = train_test_split(x, y, test_size = 0.2, random_state = 42)\n",
    "\n",
    "# Creamos la regresiónn lineal\n",
    "LR = Lasso(normalize= True) # nos aseguramos de que se normalizan los datos\n",
    "# Ajustamos el modelo\n",
    "\n",
    "LR.fit(x_train,y_train)\n",
    "y_prediction_train =  LR.predict(x_train)\n",
    "Adj_r2_train = 1 - (1-r2_score(y_train,y_prediction_train)) * (x_train.shape[0]-1)/(x_train.shape[0]-x_train.shape[1]-1)\n",
    "\n",
    "y_prediction =  LR.predict(x_test)\n",
    "Adj_r2_test = 1 - (1-r2_score(y_test, y_prediction)) * (x_test.shape[0]-1)/(x_test.shape[0]-x_test.shape[1]-1)\n",
    "\n",
    "# Para el conjunto de entrenamiento las méticas han sido\n",
    "print('Para el conjunto train:---------------')\n",
    "print('El valor de r2 score es ',r2_score(y_train,y_prediction_train))\n",
    "print('El valor de r2 score adjusted es ',Adj_r2_train)\n",
    "print('El MAE es',mean_absolute_error(y_train,y_prediction_train))\n",
    "print('EL RMSE es ',np.sqrt(mean_squared_error(y_train,y_prediction_train)))\n",
    "\n",
    "\n",
    "# Para el conjunto de test las métricas han sido\n",
    "print('Para el conjunto test:---------------')\n",
    "print('El valor de r2 score es ',r2_score(y_test,y_prediction))\n",
    "print('El valor de r2 score adjusted es ',Adj_r2_test)\n",
    "print('El MAE es',mean_absolute_error(y_test,y_prediction))\n",
    "print('EL RMSE es ',np.sqrt(mean_squared_error(y_test,y_prediction)))"
   ]
  },
  {
   "cell_type": "markdown",
   "metadata": {},
   "source": [
    "El valor de r2 score es  0.022598105218575304\n",
    "El valor de r2 score adjusted es  0.021804161120696608\n",
    "El MAE es 1842.246975764632\n",
    "EL RMSE es  6704.1524733761025\n",
    "Para el conjunto train:---------------\n",
    "El valor de r2 score es  0.02619413039586227\n",
    "El valor de r2 score adjusted es  0.025403107351217202\n",
    "El MAE es 1858.2179652709713\n",
    "EL RMSE es  6691.808259230228\n"
   ]
  },
  {
   "cell_type": "markdown",
   "metadata": {},
   "source": [
    "# Ejercicio 3\n",
    "Compara los resultados del ajuste lineal multiple donde se han eliminado variables y los obtenidos aplicando las regresiones de tipo Ridge y Lassso. Explica los resultados obtenidos."
   ]
  },
  {
   "cell_type": "markdown",
   "metadata": {},
   "source": [
    "Tanto para las regresiones con penalizacion de tipo Ridge y Lasso, nuestras variaciones, aunque han sido menores, son insignificantes para poder hacer un análisis sobre ello. "
   ]
  },
  {
   "cell_type": "markdown",
   "metadata": {},
   "source": [
    "El valor de r2 en nuestros 3 modelos no cambia significativamente, pero si vemos cambios importantes en el MAE inicial y el modelo de Lasso. Sin embargo, vemos que nuestros modelos no responden a una regresión lineal, por lo que se debe intentar buscar una regresión logarítmica."
   ]
  }
 ],
 "metadata": {
  "interpreter": {
   "hash": "a7767d930544d914483bb7fc45a359b90234f0fc056fbb3956e60e9a90a88fdd"
  },
  "kernelspec": {
   "display_name": "Python 3.9.7 ('base')",
   "language": "python",
   "name": "python3"
  },
  "language_info": {
   "codemirror_mode": {
    "name": "ipython",
    "version": 3
   },
   "file_extension": ".py",
   "mimetype": "text/x-python",
   "name": "python",
   "nbconvert_exporter": "python",
   "pygments_lexer": "ipython3",
   "version": "3.9.7"
  },
  "orig_nbformat": 4
 },
 "nbformat": 4,
 "nbformat_minor": 2
}
