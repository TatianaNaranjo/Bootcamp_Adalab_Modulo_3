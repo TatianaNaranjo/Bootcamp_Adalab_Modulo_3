{
 "cells": [
  {
   "cell_type": "markdown",
   "metadata": {},
   "source": [
    "# Pair Programming 31/05 Regresión logística I - Tatiana y Guada"
   ]
  },
  {
   "cell_type": "code",
   "execution_count": 2,
   "metadata": {},
   "outputs": [],
   "source": [
    "import numpy as np\n",
    "import pandas as pd\n",
    "import matplotlib.pyplot as plt\n",
    "import seaborn as sns\n",
    "import warnings\n",
    "warnings.filterwarnings( \"ignore\", module = \"seaborn\\..*\" )\n",
    "import sidetable\n",
    "#import statsmodels.api as sm\n",
    "import pylab as py\n",
    "from sklearn.model_selection import train_test_split\n",
    "from sklearn.linear_model import LinearRegression,LogisticRegression\n",
    "from sklearn.preprocessing import MinMaxScaler, OneHotEncoder, StandardScaler\n",
    "from sklearn.metrics import confusion_matrix,cohen_kappa_score\n",
    "from sklearn.linear_model import LogisticRegression\n",
    "from sklearn.metrics import roc_curve,roc_auc_score, classification_report\n",
    "from sklearn.metrics import roc_curve, auc\n",
    "from sklearn.metrics import accuracy_score \n",
    "from sklearn.metrics import mean_absolute_error, accuracy_score\n",
    "\n",
    "plt.rcParams[\"figure.facecolor\"] = \"w\""
   ]
  },
  {
   "cell_type": "markdown",
   "metadata": {},
   "source": [
    "# Ejercicio 1\n",
    "- Buscar un conjunto de datos a analizar: (Obviar si se reutiliza el conjunto de las clases anteriores)\n",
    "\n",
    "Se recomienda que el conjunto de datos a analizar tenga variables numéricas y categóricas, primando que haya más de una variable de tipo numérico. Ya que tambien se utilizarán serán útiles a la hora de realizar predicciones en las clases de regresión lineal múltiple. Así mismo se recomienda que los datasets esten ligeramente limpios para facilidar los análisis."
   ]
  },
  {
   "cell_type": "markdown",
   "metadata": {},
   "source": [
    "👩🏻👩🏻‍🦰💬\n",
    "\n",
    "Hemos elegido otro dataset, ya que el anterior no cumplía con los requisitos. La temática es sobre las tiendas de la página Etsy, plataforma de venta de artesania.\n",
    "\n",
    "Aquí dejamos la descripción de cada una de las columnas:\n",
    "- creation_date -> The date that the shop has been created in Etsy website.\n",
    "- listing_active_count -> The number of active listing this shop has at the moment of capturing the data.\n",
    "- num_favorers -> Number of people who follow this shop. \n",
    "- currency_code -> The ISO currency code for the seller's native currency. \n",
    "- is_shop_us_based -> Is this shop USA based?\n",
    "- sale_message -> Does this shop have a sale message (message send to buyer upon a purchase)?\n",
    "- sales_count -> Number of sales that the shop has made. \n",
    "- review_count -> Number of reviews that the shop has gained. \n",
    "- shop_location -> The location of the site (country, city)."
   ]
  },
  {
   "cell_type": "code",
   "execution_count": 4,
   "metadata": {},
   "outputs": [
    {
     "data": {
      "text/html": [
       "<div>\n",
       "<style scoped>\n",
       "    .dataframe tbody tr th:only-of-type {\n",
       "        vertical-align: middle;\n",
       "    }\n",
       "\n",
       "    .dataframe tbody tr th {\n",
       "        vertical-align: top;\n",
       "    }\n",
       "\n",
       "    .dataframe thead th {\n",
       "        text-align: right;\n",
       "    }\n",
       "</style>\n",
       "<table border=\"1\" class=\"dataframe\">\n",
       "  <thead>\n",
       "    <tr style=\"text-align: right;\">\n",
       "      <th></th>\n",
       "      <th>creation_date</th>\n",
       "      <th>listing_active_count</th>\n",
       "      <th>num_favorers</th>\n",
       "      <th>currency_code</th>\n",
       "      <th>is_shop_us_based</th>\n",
       "      <th>sale_message</th>\n",
       "      <th>sales_count</th>\n",
       "      <th>review_count</th>\n",
       "      <th>shop_location</th>\n",
       "    </tr>\n",
       "  </thead>\n",
       "  <tbody>\n",
       "    <tr>\n",
       "      <th>0</th>\n",
       "      <td>19-Nov</td>\n",
       "      <td>3</td>\n",
       "      <td>1</td>\n",
       "      <td>USD</td>\n",
       "      <td>True</td>\n",
       "      <td>False</td>\n",
       "      <td>0</td>\n",
       "      <td>0</td>\n",
       "      <td>Kansas City, Missouri</td>\n",
       "    </tr>\n",
       "    <tr>\n",
       "      <th>1</th>\n",
       "      <td>19-Nov</td>\n",
       "      <td>13</td>\n",
       "      <td>1</td>\n",
       "      <td>AUD</td>\n",
       "      <td>False</td>\n",
       "      <td>False</td>\n",
       "      <td>2</td>\n",
       "      <td>0</td>\n",
       "      <td>None</td>\n",
       "    </tr>\n",
       "    <tr>\n",
       "      <th>2</th>\n",
       "      <td>19-Nov</td>\n",
       "      <td>0</td>\n",
       "      <td>0</td>\n",
       "      <td>USD</td>\n",
       "      <td>True</td>\n",
       "      <td>False</td>\n",
       "      <td>-99</td>\n",
       "      <td>-99</td>\n",
       "      <td>None</td>\n",
       "    </tr>\n",
       "    <tr>\n",
       "      <th>3</th>\n",
       "      <td>19-Nov</td>\n",
       "      <td>40</td>\n",
       "      <td>1</td>\n",
       "      <td>USD</td>\n",
       "      <td>False</td>\n",
       "      <td>False</td>\n",
       "      <td>0</td>\n",
       "      <td>0</td>\n",
       "      <td>Kharkiv, Ukraine</td>\n",
       "    </tr>\n",
       "    <tr>\n",
       "      <th>4</th>\n",
       "      <td>19-Nov</td>\n",
       "      <td>7</td>\n",
       "      <td>1</td>\n",
       "      <td>USD</td>\n",
       "      <td>True</td>\n",
       "      <td>False</td>\n",
       "      <td>0</td>\n",
       "      <td>0</td>\n",
       "      <td>New York, United States</td>\n",
       "    </tr>\n",
       "  </tbody>\n",
       "</table>\n",
       "</div>"
      ],
      "text/plain": [
       "  creation_date  listing_active_count  num_favorers currency_code  \\\n",
       "0        19-Nov                     3             1           USD   \n",
       "1        19-Nov                    13             1           AUD   \n",
       "2        19-Nov                     0             0           USD   \n",
       "3        19-Nov                    40             1           USD   \n",
       "4        19-Nov                     7             1           USD   \n",
       "\n",
       "   is_shop_us_based  sale_message  sales_count  review_count  \\\n",
       "0              True         False            0             0   \n",
       "1             False         False            2             0   \n",
       "2              True         False          -99           -99   \n",
       "3             False         False            0             0   \n",
       "4              True         False            0             0   \n",
       "\n",
       "             shop_location  \n",
       "0    Kansas City, Missouri  \n",
       "1                     None  \n",
       "2                     None  \n",
       "3         Kharkiv, Ukraine  \n",
       "4  New York, United States  "
      ]
     },
     "execution_count": 4,
     "metadata": {},
     "output_type": "execute_result"
    }
   ],
   "source": [
    "df = pd.read_csv(\"etsy_shops_data.csv\")\n",
    "df.head()"
   ]
  },
  {
   "cell_type": "markdown",
   "metadata": {},
   "source": [
    "# Ejercicio 2\n",
    "- Explicar los datos y las variables disponibles en el conjunto de datos seleccionado: (Obviar si se reutiliza el conjunto de las clases anteriores)\n",
    "\n",
    "Esto se hace para que comprendais mejor los datos con los que estais trabajando.\n",
    "\n",
    "Realizar un EDA sencillo para la variable dependiente y la variable independiente."
   ]
  },
  {
   "cell_type": "code",
   "execution_count": 5,
   "metadata": {},
   "outputs": [
    {
     "data": {
      "text/html": [
       "<div>\n",
       "<style scoped>\n",
       "    .dataframe tbody tr th:only-of-type {\n",
       "        vertical-align: middle;\n",
       "    }\n",
       "\n",
       "    .dataframe tbody tr th {\n",
       "        vertical-align: top;\n",
       "    }\n",
       "\n",
       "    .dataframe thead th {\n",
       "        text-align: right;\n",
       "    }\n",
       "</style>\n",
       "<table border=\"1\" class=\"dataframe\">\n",
       "  <thead>\n",
       "    <tr style=\"text-align: right;\">\n",
       "      <th></th>\n",
       "      <th>listing_active_count</th>\n",
       "      <th>num_favorers</th>\n",
       "      <th>sales_count</th>\n",
       "      <th>review_count</th>\n",
       "    </tr>\n",
       "  </thead>\n",
       "  <tbody>\n",
       "    <tr>\n",
       "      <th>count</th>\n",
       "      <td>20000.000000</td>\n",
       "      <td>20000.000000</td>\n",
       "      <td>20000.000000</td>\n",
       "      <td>20000.000000</td>\n",
       "    </tr>\n",
       "    <tr>\n",
       "      <th>mean</th>\n",
       "      <td>7.335950</td>\n",
       "      <td>0.996800</td>\n",
       "      <td>-5.583750</td>\n",
       "      <td>-7.541550</td>\n",
       "    </tr>\n",
       "    <tr>\n",
       "      <th>std</th>\n",
       "      <td>24.582274</td>\n",
       "      <td>4.104148</td>\n",
       "      <td>38.041153</td>\n",
       "      <td>26.437608</td>\n",
       "    </tr>\n",
       "    <tr>\n",
       "      <th>min</th>\n",
       "      <td>0.000000</td>\n",
       "      <td>0.000000</td>\n",
       "      <td>-99.000000</td>\n",
       "      <td>-99.000000</td>\n",
       "    </tr>\n",
       "    <tr>\n",
       "      <th>25%</th>\n",
       "      <td>1.000000</td>\n",
       "      <td>0.000000</td>\n",
       "      <td>0.000000</td>\n",
       "      <td>0.000000</td>\n",
       "    </tr>\n",
       "    <tr>\n",
       "      <th>50%</th>\n",
       "      <td>2.000000</td>\n",
       "      <td>0.000000</td>\n",
       "      <td>0.000000</td>\n",
       "      <td>0.000000</td>\n",
       "    </tr>\n",
       "    <tr>\n",
       "      <th>75%</th>\n",
       "      <td>7.000000</td>\n",
       "      <td>1.000000</td>\n",
       "      <td>0.000000</td>\n",
       "      <td>0.000000</td>\n",
       "    </tr>\n",
       "    <tr>\n",
       "      <th>max</th>\n",
       "      <td>1749.000000</td>\n",
       "      <td>223.000000</td>\n",
       "      <td>2216.000000</td>\n",
       "      <td>58.000000</td>\n",
       "    </tr>\n",
       "  </tbody>\n",
       "</table>\n",
       "</div>"
      ],
      "text/plain": [
       "       listing_active_count  num_favorers   sales_count  review_count\n",
       "count          20000.000000  20000.000000  20000.000000  20000.000000\n",
       "mean               7.335950      0.996800     -5.583750     -7.541550\n",
       "std               24.582274      4.104148     38.041153     26.437608\n",
       "min                0.000000      0.000000    -99.000000    -99.000000\n",
       "25%                1.000000      0.000000      0.000000      0.000000\n",
       "50%                2.000000      0.000000      0.000000      0.000000\n",
       "75%                7.000000      1.000000      0.000000      0.000000\n",
       "max             1749.000000    223.000000   2216.000000     58.000000"
      ]
     },
     "execution_count": 5,
     "metadata": {},
     "output_type": "execute_result"
    }
   ],
   "source": [
    "df.describe()"
   ]
  },
  {
   "cell_type": "code",
   "execution_count": 6,
   "metadata": {},
   "outputs": [
    {
     "name": "stdout",
     "output_type": "stream",
     "text": [
      "<class 'pandas.core.frame.DataFrame'>\n",
      "RangeIndex: 20000 entries, 0 to 19999\n",
      "Data columns (total 9 columns):\n",
      " #   Column                Non-Null Count  Dtype \n",
      "---  ------                --------------  ----- \n",
      " 0   creation_date         20000 non-null  object\n",
      " 1   listing_active_count  20000 non-null  int64 \n",
      " 2   num_favorers          20000 non-null  int64 \n",
      " 3   currency_code         20000 non-null  object\n",
      " 4   is_shop_us_based      20000 non-null  bool  \n",
      " 5   sale_message          20000 non-null  bool  \n",
      " 6   sales_count           20000 non-null  int64 \n",
      " 7   review_count          20000 non-null  int64 \n",
      " 8   shop_location         20000 non-null  object\n",
      "dtypes: bool(2), int64(4), object(3)\n",
      "memory usage: 1.1+ MB\n"
     ]
    }
   ],
   "source": [
    "df.info()"
   ]
  },
  {
   "cell_type": "code",
   "execution_count": 7,
   "metadata": {},
   "outputs": [
    {
     "data": {
      "text/plain": [
       "creation_date           0\n",
       "listing_active_count    0\n",
       "num_favorers            0\n",
       "currency_code           0\n",
       "is_shop_us_based        0\n",
       "sale_message            0\n",
       "sales_count             0\n",
       "review_count            0\n",
       "shop_location           0\n",
       "dtype: int64"
      ]
     },
     "execution_count": 7,
     "metadata": {},
     "output_type": "execute_result"
    }
   ],
   "source": [
    "df.isnull().sum()"
   ]
  },
  {
   "cell_type": "markdown",
   "metadata": {},
   "source": [
    "# Ejercicio 3 \n",
    "- Realiza el ajuste logístico utilizando diversas métricas y realiza una gráfica mostrando los resultados."
   ]
  },
  {
   "cell_type": "code",
   "execution_count": null,
   "metadata": {},
   "outputs": [],
   "source": []
  },
  {
   "cell_type": "markdown",
   "metadata": {},
   "source": [
    "# Ejercicio 4\n",
    "- Interpretación de los resultados.\n",
    "\n",
    "Ahora interpreta los resultados obtenidos del ajuste lineal simple y explica lo mejor posible la naturaleza de los mismos"
   ]
  }
 ],
 "metadata": {
  "interpreter": {
   "hash": "a7767d930544d914483bb7fc45a359b90234f0fc056fbb3956e60e9a90a88fdd"
  },
  "kernelspec": {
   "display_name": "Python 3.9.7 ('base')",
   "language": "python",
   "name": "python3"
  },
  "language_info": {
   "codemirror_mode": {
    "name": "ipython",
    "version": 3
   },
   "file_extension": ".py",
   "mimetype": "text/x-python",
   "name": "python",
   "nbconvert_exporter": "python",
   "pygments_lexer": "ipython3",
   "version": "3.9.7"
  },
  "orig_nbformat": 4
 },
 "nbformat": 4,
 "nbformat_minor": 2
}
